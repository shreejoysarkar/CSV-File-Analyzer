{
 "cells": [
  {
   "cell_type": "markdown",
   "id": "9eb6ada4",
   "metadata": {},
   "source": [
    "## This notebook is used to experiment with different analysis workflows on CSV file (Electronic_product_detail.csv) before building the final automated analyzer script."
   ]
  },
  {
   "cell_type": "code",
   "execution_count": 14,
   "id": "2e0dfb15",
   "metadata": {},
   "outputs": [],
   "source": [
    "# importing libraries\n",
    "import pandas as pd\n",
    "import numpy as np\n",
    "import matplotlib.pyplot as plt\n",
    "import seaborn as sns\n",
    "import kagglehub\n",
    "import os"
   ]
  },
  {
   "cell_type": "code",
   "execution_count": 12,
   "id": "42c41f14",
   "metadata": {},
   "outputs": [],
   "source": [
    "# reading csv file\n",
    "file = pd.read_csv('electronic_product_details.csv')\n"
   ]
  },
  {
   "cell_type": "code",
   "execution_count": 20,
   "id": "2885a0e1",
   "metadata": {},
   "outputs": [
    {
     "name": "stdout",
     "output_type": "stream",
     "text": [
      "Path to dataset files: C:\\Users\\shree\\.cache\\kagglehub\\datasets\\ankushpanday2\\indian-kids-screentime-2025\\versions\\1\n"
     ]
    }
   ],
   "source": [
    "# using kagglehub to download datasets\n",
    "foldername = 'sample_datasets'\n",
    "if not os.path.exists(foldername):\n",
    "    os.makedirs(foldername, exist_ok=True)\n",
    "    path = kagglehub.dataset_download(\"ankushpanday2/indian-kids-screentime-2025\", path=foldername)\n",
    "\n",
    "print(\"Path to dataset files:\", path)"
   ]
  },
  {
   "cell_type": "code",
   "execution_count": 3,
   "id": "dc42fbce",
   "metadata": {},
   "outputs": [
    {
     "data": {
      "text/html": [
       "<div>\n",
       "<style scoped>\n",
       "    .dataframe tbody tr th:only-of-type {\n",
       "        vertical-align: middle;\n",
       "    }\n",
       "\n",
       "    .dataframe tbody tr th {\n",
       "        vertical-align: top;\n",
       "    }\n",
       "\n",
       "    .dataframe thead th {\n",
       "        text-align: right;\n",
       "    }\n",
       "</style>\n",
       "<table border=\"1\" class=\"dataframe\">\n",
       "  <thead>\n",
       "    <tr style=\"text-align: right;\">\n",
       "      <th></th>\n",
       "      <th>OrderID</th>\n",
       "      <th>ProductCategory</th>\n",
       "      <th>ProductPrice</th>\n",
       "      <th>Quantity</th>\n",
       "      <th>Region</th>\n",
       "      <th>OrderDate</th>\n",
       "      <th>PaymentMethod</th>\n",
       "    </tr>\n",
       "  </thead>\n",
       "  <tbody>\n",
       "    <tr>\n",
       "      <th>0</th>\n",
       "      <td>1</td>\n",
       "      <td>Electronics</td>\n",
       "      <td>1200.50</td>\n",
       "      <td>2.0</td>\n",
       "      <td>North</td>\n",
       "      <td>15-01-2024 10:00</td>\n",
       "      <td>Credit Card</td>\n",
       "    </tr>\n",
       "    <tr>\n",
       "      <th>1</th>\n",
       "      <td>2</td>\n",
       "      <td>Clothing</td>\n",
       "      <td>45.99</td>\n",
       "      <td>3.0</td>\n",
       "      <td>South</td>\n",
       "      <td>16-01-2024 11:30</td>\n",
       "      <td>Debit Card</td>\n",
       "    </tr>\n",
       "    <tr>\n",
       "      <th>2</th>\n",
       "      <td>3</td>\n",
       "      <td>Home Goods</td>\n",
       "      <td>250.00</td>\n",
       "      <td>1.0</td>\n",
       "      <td>East</td>\n",
       "      <td>17-01-2024 12:45</td>\n",
       "      <td>Cash</td>\n",
       "    </tr>\n",
       "    <tr>\n",
       "      <th>3</th>\n",
       "      <td>4</td>\n",
       "      <td>Books</td>\n",
       "      <td>15.75</td>\n",
       "      <td>5.0</td>\n",
       "      <td>West</td>\n",
       "      <td>18-01-2024 14:00</td>\n",
       "      <td>Credit Card</td>\n",
       "    </tr>\n",
       "    <tr>\n",
       "      <th>4</th>\n",
       "      <td>5</td>\n",
       "      <td>Electronics</td>\n",
       "      <td>800.00</td>\n",
       "      <td>NaN</td>\n",
       "      <td>North</td>\n",
       "      <td>19-01-2024 15:15</td>\n",
       "      <td>Debit Card</td>\n",
       "    </tr>\n",
       "  </tbody>\n",
       "</table>\n",
       "</div>"
      ],
      "text/plain": [
       "   OrderID ProductCategory  ProductPrice  Quantity Region         OrderDate  \\\n",
       "0        1     Electronics       1200.50       2.0  North  15-01-2024 10:00   \n",
       "1        2        Clothing         45.99       3.0  South  16-01-2024 11:30   \n",
       "2        3      Home Goods        250.00       1.0   East  17-01-2024 12:45   \n",
       "3        4           Books         15.75       5.0   West  18-01-2024 14:00   \n",
       "4        5     Electronics        800.00       NaN  North  19-01-2024 15:15   \n",
       "\n",
       "  PaymentMethod  \n",
       "0   Credit Card  \n",
       "1    Debit Card  \n",
       "2          Cash  \n",
       "3   Credit Card  \n",
       "4    Debit Card  "
      ]
     },
     "execution_count": 3,
     "metadata": {},
     "output_type": "execute_result"
    }
   ],
   "source": [
    "# displaying top 5 rows of the file\n",
    "file.head()"
   ]
  },
  {
   "cell_type": "code",
   "execution_count": 4,
   "id": "f88eaeb6",
   "metadata": {},
   "outputs": [
    {
     "data": {
      "text/html": [
       "<div>\n",
       "<style scoped>\n",
       "    .dataframe tbody tr th:only-of-type {\n",
       "        vertical-align: middle;\n",
       "    }\n",
       "\n",
       "    .dataframe tbody tr th {\n",
       "        vertical-align: top;\n",
       "    }\n",
       "\n",
       "    .dataframe thead th {\n",
       "        text-align: right;\n",
       "    }\n",
       "</style>\n",
       "<table border=\"1\" class=\"dataframe\">\n",
       "  <thead>\n",
       "    <tr style=\"text-align: right;\">\n",
       "      <th></th>\n",
       "      <th>OrderID</th>\n",
       "      <th>ProductCategory</th>\n",
       "      <th>ProductPrice</th>\n",
       "      <th>Quantity</th>\n",
       "      <th>Region</th>\n",
       "      <th>OrderDate</th>\n",
       "      <th>PaymentMethod</th>\n",
       "    </tr>\n",
       "  </thead>\n",
       "  <tbody>\n",
       "    <tr>\n",
       "      <th>195</th>\n",
       "      <td>196</td>\n",
       "      <td>Food</td>\n",
       "      <td>12.5</td>\n",
       "      <td>8.0</td>\n",
       "      <td>Central</td>\n",
       "      <td>28-01-2024 15:30</td>\n",
       "      <td>Debit Card</td>\n",
       "    </tr>\n",
       "    <tr>\n",
       "      <th>196</th>\n",
       "      <td>197</td>\n",
       "      <td>Electronics</td>\n",
       "      <td>950.0</td>\n",
       "      <td>1.0</td>\n",
       "      <td>North</td>\n",
       "      <td>29-01-2024 16:45</td>\n",
       "      <td>Credit Card</td>\n",
       "    </tr>\n",
       "    <tr>\n",
       "      <th>197</th>\n",
       "      <td>198</td>\n",
       "      <td>Clothing</td>\n",
       "      <td>70.0</td>\n",
       "      <td>3.0</td>\n",
       "      <td>South</td>\n",
       "      <td>30-01-2024 17:00</td>\n",
       "      <td>Cash</td>\n",
       "    </tr>\n",
       "    <tr>\n",
       "      <th>198</th>\n",
       "      <td>199</td>\n",
       "      <td>Home Goods</td>\n",
       "      <td>280.0</td>\n",
       "      <td>1.0</td>\n",
       "      <td>East</td>\n",
       "      <td>31-01-2024 18:15</td>\n",
       "      <td>Debit Card</td>\n",
       "    </tr>\n",
       "    <tr>\n",
       "      <th>199</th>\n",
       "      <td>200</td>\n",
       "      <td>Books</td>\n",
       "      <td>22.0</td>\n",
       "      <td>6.0</td>\n",
       "      <td>West</td>\n",
       "      <td>01-02-2024 09:30</td>\n",
       "      <td>Credit Card</td>\n",
       "    </tr>\n",
       "  </tbody>\n",
       "</table>\n",
       "</div>"
      ],
      "text/plain": [
       "     OrderID ProductCategory  ProductPrice  Quantity   Region  \\\n",
       "195      196            Food          12.5       8.0  Central   \n",
       "196      197     Electronics         950.0       1.0    North   \n",
       "197      198        Clothing          70.0       3.0    South   \n",
       "198      199      Home Goods         280.0       1.0     East   \n",
       "199      200           Books          22.0       6.0     West   \n",
       "\n",
       "            OrderDate PaymentMethod  \n",
       "195  28-01-2024 15:30    Debit Card  \n",
       "196  29-01-2024 16:45   Credit Card  \n",
       "197  30-01-2024 17:00          Cash  \n",
       "198  31-01-2024 18:15    Debit Card  \n",
       "199  01-02-2024 09:30   Credit Card  "
      ]
     },
     "execution_count": 4,
     "metadata": {},
     "output_type": "execute_result"
    }
   ],
   "source": [
    "# displaying bottom 5 rows of the file\n",
    "file.tail(5)"
   ]
  },
  {
   "cell_type": "code",
   "execution_count": 5,
   "id": "5dc8f711",
   "metadata": {},
   "outputs": [
    {
     "data": {
      "text/plain": [
       "(200, 7)"
      ]
     },
     "execution_count": 5,
     "metadata": {},
     "output_type": "execute_result"
    }
   ],
   "source": [
    "# size of the file (column_number, row_number)\n",
    "file.shape"
   ]
  },
  {
   "cell_type": "code",
   "execution_count": 6,
   "id": "c50cbd68",
   "metadata": {},
   "outputs": [
    {
     "data": {
      "text/plain": [
       "OrderID              int64\n",
       "ProductCategory     object\n",
       "ProductPrice       float64\n",
       "Quantity           float64\n",
       "Region              object\n",
       "OrderDate           object\n",
       "PaymentMethod       object\n",
       "dtype: object"
      ]
     },
     "execution_count": 6,
     "metadata": {},
     "output_type": "execute_result"
    }
   ],
   "source": [
    "# datatype of columns\n",
    "file.dtypes"
   ]
  },
  {
   "cell_type": "code",
   "execution_count": 7,
   "id": "e4a17685",
   "metadata": {},
   "outputs": [
    {
     "name": "stdout",
     "output_type": "stream",
     "text": [
      "<class 'pandas.core.frame.DataFrame'>\n",
      "RangeIndex: 200 entries, 0 to 199\n",
      "Data columns (total 7 columns):\n",
      " #   Column           Non-Null Count  Dtype  \n",
      "---  ------           --------------  -----  \n",
      " 0   OrderID          200 non-null    int64  \n",
      " 1   ProductCategory  200 non-null    object \n",
      " 2   ProductPrice     182 non-null    float64\n",
      " 3   Quantity         163 non-null    float64\n",
      " 4   Region           200 non-null    object \n",
      " 5   OrderDate        200 non-null    object \n",
      " 6   PaymentMethod    194 non-null    object \n",
      "dtypes: float64(2), int64(1), object(4)\n",
      "memory usage: 11.1+ KB\n"
     ]
    }
   ],
   "source": [
    "file.info()"
   ]
  },
  {
   "cell_type": "code",
   "execution_count": 10,
   "id": "88749b91",
   "metadata": {},
   "outputs": [
    {
     "data": {
      "text/html": [
       "<div>\n",
       "<style scoped>\n",
       "    .dataframe tbody tr th:only-of-type {\n",
       "        vertical-align: middle;\n",
       "    }\n",
       "\n",
       "    .dataframe tbody tr th {\n",
       "        vertical-align: top;\n",
       "    }\n",
       "\n",
       "    .dataframe thead th {\n",
       "        text-align: right;\n",
       "    }\n",
       "</style>\n",
       "<table border=\"1\" class=\"dataframe\">\n",
       "  <thead>\n",
       "    <tr style=\"text-align: right;\">\n",
       "      <th></th>\n",
       "      <th>OrderID</th>\n",
       "      <th>ProductPrice</th>\n",
       "      <th>Quantity</th>\n",
       "    </tr>\n",
       "  </thead>\n",
       "  <tbody>\n",
       "    <tr>\n",
       "      <th>count</th>\n",
       "      <td>200.000000</td>\n",
       "      <td>182.000000</td>\n",
       "      <td>163.000000</td>\n",
       "    </tr>\n",
       "    <tr>\n",
       "      <th>mean</th>\n",
       "      <td>100.500000</td>\n",
       "      <td>308.006593</td>\n",
       "      <td>3.822086</td>\n",
       "    </tr>\n",
       "    <tr>\n",
       "      <th>std</th>\n",
       "      <td>57.879185</td>\n",
       "      <td>431.613276</td>\n",
       "      <td>3.077036</td>\n",
       "    </tr>\n",
       "    <tr>\n",
       "      <th>min</th>\n",
       "      <td>1.000000</td>\n",
       "      <td>8.500000</td>\n",
       "      <td>1.000000</td>\n",
       "    </tr>\n",
       "    <tr>\n",
       "      <th>25%</th>\n",
       "      <td>50.750000</td>\n",
       "      <td>16.625000</td>\n",
       "      <td>1.500000</td>\n",
       "    </tr>\n",
       "    <tr>\n",
       "      <th>50%</th>\n",
       "      <td>100.500000</td>\n",
       "      <td>52.000000</td>\n",
       "      <td>3.000000</td>\n",
       "    </tr>\n",
       "    <tr>\n",
       "      <th>75%</th>\n",
       "      <td>150.250000</td>\n",
       "      <td>317.500000</td>\n",
       "      <td>5.000000</td>\n",
       "    </tr>\n",
       "    <tr>\n",
       "      <th>max</th>\n",
       "      <td>200.000000</td>\n",
       "      <td>1500.000000</td>\n",
       "      <td>12.000000</td>\n",
       "    </tr>\n",
       "  </tbody>\n",
       "</table>\n",
       "</div>"
      ],
      "text/plain": [
       "          OrderID  ProductPrice    Quantity\n",
       "count  200.000000    182.000000  163.000000\n",
       "mean   100.500000    308.006593    3.822086\n",
       "std     57.879185    431.613276    3.077036\n",
       "min      1.000000      8.500000    1.000000\n",
       "25%     50.750000     16.625000    1.500000\n",
       "50%    100.500000     52.000000    3.000000\n",
       "75%    150.250000    317.500000    5.000000\n",
       "max    200.000000   1500.000000   12.000000"
      ]
     },
     "execution_count": 10,
     "metadata": {},
     "output_type": "execute_result"
    }
   ],
   "source": [
    "file.describe()"
   ]
  },
  {
   "cell_type": "code",
   "execution_count": 8,
   "id": "b982a7f1",
   "metadata": {},
   "outputs": [],
   "source": [
    "# displaying the number of unique values column wise\n",
    "f = file.nunique()"
   ]
  },
  {
   "cell_type": "code",
   "execution_count": 9,
   "id": "aa93a181",
   "metadata": {},
   "outputs": [
    {
     "data": {
      "text/plain": [
       "OrderID              0\n",
       "ProductCategory    195\n",
       "ProductPrice       128\n",
       "Quantity           187\n",
       "Region             195\n",
       "OrderDate          116\n",
       "PaymentMethod      196\n",
       "dtype: int64"
      ]
     },
     "execution_count": 9,
     "metadata": {},
     "output_type": "execute_result"
    }
   ],
   "source": [
    "# displaying number of duplicates column wise\n",
    "duplicates_per_columns = file.apply(lambda x: x.duplicated().sum())\n",
    "duplicates_per_columns"
   ]
  },
  {
   "cell_type": "code",
   "execution_count": null,
   "id": "f89530f2",
   "metadata": {},
   "outputs": [],
   "source": []
  }
 ],
 "metadata": {
  "kernelspec": {
   "display_name": "csv_analyse",
   "language": "python",
   "name": "python3"
  },
  "language_info": {
   "codemirror_mode": {
    "name": "ipython",
    "version": 3
   },
   "file_extension": ".py",
   "mimetype": "text/x-python",
   "name": "python",
   "nbconvert_exporter": "python",
   "pygments_lexer": "ipython3",
   "version": "3.11.11"
  }
 },
 "nbformat": 4,
 "nbformat_minor": 5
}
